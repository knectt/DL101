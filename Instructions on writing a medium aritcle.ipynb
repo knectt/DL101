{
  "nbformat": 4,
  "nbformat_minor": 0,
  "metadata": {
    "orig_nbformat": 2,
    "colab": {
      "name": "[Workbook] week_04_final_project.ipynb",
      "provenance": [],
      "collapsed_sections": [],
      "include_colab_link": true
    },
    "language_info": {
      "name": "python"
    },
    "kernelspec": {
      "name": "python3",
      "display_name": "Python 3"
    },
    "accelerator": "GPU"
  },
  "cells": [
    {
      "cell_type": "markdown",
      "metadata": {
        "id": "view-in-github",
        "colab_type": "text"
      },
      "source": [
        "<a href=\"https://colab.research.google.com/github/unpackAI/DL101/blob/main/Instructions%20on%20writing%20a%20medium%20aritcle.ipynb\" target=\"_parent\"><img src=\"https://colab.research.google.com/assets/colab-badge.svg\" alt=\"Open In Colab\"/></a>"
      ]
    },
    {
      "cell_type": "markdown",
      "metadata": {
        "id": "Kmmgkcy_JaMt"
      },
      "source": [
        "# 💻 Welcome to Week 4 of the DL101 Bootcamp \n",
        "\n",
        "# Your Final Project\n",
        "\n",
        "**Congratulations.** You have reached the final week of the unpackAI Bootcamp. This week you will focus on improving and refining the model that you have already built. There will be no additional reading materials.\n",
        "\n",
        "This will be your final project and you will have to (1) work on your models performance, (2) deploy your model, (3) write a written thesis about it, and finally (4) prepare yourself to present it in front of your fellow students and the mentors. We are excited to see what your are capable of.\n",
        "\n",
        "## 📕 Learning Objectives\n",
        "\n",
        "* Get and understanding of the end-to-end process of building and deploying your model.\n",
        "* Utilize and be aware of effective methods to improve your model's performance.\n",
        "* Learn how to effectively verbalize your model building efforts. \n",
        "\n",
        "## unpackAI Assignment Section\n",
        "\n",
        " \n",
        "*   **Assignment 1**: Improve your Model.\n",
        "*   **Assignment 2**: Deploy your Model.\n",
        "*   **Assignment 3**: Prepare a written thesis about your model.\n",
        "*   **Assignment 4**: Prepare yourself to present your model.\n",
        "\n",
        "## 📅 Weekly Progress\n",
        "\n",
        "|Week | Content | Learning Objectives|\n",
        "|:--- |:--- | :--- |\n",
        "|0 | Warm Up | Get to know more about your classmates, the mentors, and the required tools for the Bootcamp such as Jupyter, PyTorch, and fast.ai.\n",
        "|1 |Intro into AI and ML| Train your first Machine Learning models, and understand the concepts of a Machine Learning Model and Neural Networks.\n",
        "|2 |From Model to Production| Build your own AI project from the ground up, and learn about data preparation and its affect on the models performance.\n",
        "|3 |Going in Depth| Learn more about the theory behind the roles of tensors, stochastic gradient descent (SGD), and loss functions of a basic neural network. Also, learn about the MNIST dataset.\n",
        "|**4** |**Final Project**|**Improve the accuracy of your own AI project by applying previous learnings, and prepare a written thesis to describe your AI project, its applied techniques and further development. Present your final model.**\n",
        "|5 | Graduation | Conclude on your learnings, and graduate from the unpackAI Bootcamp to receive your certificate."
      ]
    },
    {
      "cell_type": "markdown",
      "metadata": {
        "id": "C9YAPrmlr6Md"
      },
      "source": [
        "##### **Mount GoogleDrive**"
      ]
    },
    {
      "cell_type": "code",
      "metadata": {
        "id": "Hf7ffF0FxKEc",
        "colab": {
          "base_uri": "https://localhost:8080/"
        },
        "outputId": "6ae14c7e-e8c9-472b-bfb4-159de388742f"
      },
      "source": [
        "!pip install -Uqq fastbook\n",
        "import fastbook\n",
        "fastbook.setup_book()"
      ],
      "execution_count": null,
      "outputs": [
        {
          "output_type": "stream",
          "text": [
            "\u001b[K     |████████████████████████████████| 720 kB 8.7 MB/s \n",
            "\u001b[K     |████████████████████████████████| 1.2 MB 18.6 MB/s \n",
            "\u001b[K     |████████████████████████████████| 46 kB 4.7 MB/s \n",
            "\u001b[K     |████████████████████████████████| 188 kB 51.3 MB/s \n",
            "\u001b[K     |████████████████████████████████| 53 kB 2.6 MB/s \n",
            "\u001b[K     |████████████████████████████████| 51 kB 361 kB/s \n",
            "\u001b[?25hMounted at /content/gdrive\n"
          ],
          "name": "stdout"
        }
      ]
    },
    {
      "cell_type": "markdown",
      "metadata": {
        "id": "mgqx6k21sHJ0"
      },
      "source": [
        "##### **Library Imports**\n",
        "\n",
        "Please make sure you have imported all necessary libraries that you need to run your model. In case you are not sure, please go through the [second Notebook](https://drive.google.com/file/d/1mae4cHkJXaGMtmdvn81GR1Gnz3EybFmp/view?usp=sharing) and add the libraries."
      ]
    },
    {
      "cell_type": "code",
      "metadata": {
        "id": "DGwUp3NExNjk"
      },
      "source": [
        "from fastbook import *\n",
        "from fastai.vision.widgets import *"
      ],
      "execution_count": null,
      "outputs": []
    },
    {
      "cell_type": "markdown",
      "metadata": {
        "id": "UNk9MZSoR0V1"
      },
      "source": [
        "# unpackAI Assignment Section"
      ]
    },
    {
      "cell_type": "markdown",
      "metadata": {
        "id": "0UygMoNKYC5w"
      },
      "source": [
        "## Assignment 1: Improve your Model\n",
        "\n",
        "In week 2 you created your own Image Classification Model. It's far away from the perfection, however it works as the nice **baseline** for future improvements. Your focus for this assignment will be to improve its performance by increasing the model's accuracy. Utilize various methods that you have learned about to improve your model. Below we have listed them out for you:\n",
        "\n",
        "1. **Increase the size of your Dataset**\n",
        "2. **Improve and clean your own Dataset after training your model.** \n",
        "3. **Run more epochs**\n",
        "4. **Use different Data Augmentation Methods on your data** \n",
        "5. **Utilize deeper Architectures** \n"
      ]
    },
    {
      "cell_type": "markdown",
      "metadata": {
        "id": "1vzHZsKXJHJy"
      },
      "source": [
        "### 1. Increase the size of your Dataset"
      ]
    },
    {
      "cell_type": "markdown",
      "metadata": {
        "id": "e7YZAEUGDc74"
      },
      "source": [
        "#### Add more images to your dataset."
      ]
    },
    {
      "cell_type": "markdown",
      "metadata": {
        "id": "vMPSAB_eDjD-"
      },
      "source": [
        "If a dataset of your baseline model was cleaned well enough in the second week, the most straightword approach to improve the accuracy of the model predictions is to collect more data and let the model to learn more about particular class features. We don't want to limit you to the certain size of your dataset. The more the merrier, however it will also substantially increase the time to work on accuracy improvement using the other methods, thus going up to 477 (duckduckgo image scraper limitation) would work just fine.  \n",
        "\n"
      ]
    },
    {
      "cell_type": "code",
      "metadata": {
        "id": "zJZ9OaO09mcc"
      },
      "source": [
        "#Add your code here"
      ],
      "execution_count": null,
      "outputs": []
    },
    {
      "cell_type": "markdown",
      "metadata": {
        "id": "yCWKrcCnZjad"
      },
      "source": [
        "### 2. Improve and clean your own Dataset after training your model."
      ]
    },
    {
      "cell_type": "markdown",
      "metadata": {
        "id": "KfQj3YYSv3zZ"
      },
      "source": [
        "#### Analyze your model errors"
      ]
    },
    {
      "cell_type": "markdown",
      "metadata": {
        "id": "CPQIqak1_oRy"
      },
      "source": [
        "Utilize the `confusion matrix` and `plot_top_losses`to find out more \n",
        "\n",
        "\n",
        "about your model and its predictions."
      ]
    },
    {
      "cell_type": "code",
      "metadata": {
        "id": "SGuwPbKp5PDe"
      },
      "source": [
        "#add your code here"
      ],
      "execution_count": null,
      "outputs": []
    },
    {
      "cell_type": "markdown",
      "metadata": {
        "id": "QTatgbFY5C9j"
      },
      "source": [
        "#### Clean your data"
      ]
    },
    {
      "cell_type": "markdown",
      "metadata": {
        "id": "6EDB1bWRBT9g"
      },
      "source": [
        "Utilize the `ImageClassifierCleaner` to manually delete images from your dataset that are either unclear or contain two classes at the same time. Moreover, you can manually relable images within your dataset in case they were in the wrong class."
      ]
    },
    {
      "cell_type": "code",
      "metadata": {
        "id": "NWmEskEx5Ma3"
      },
      "source": [
        "#add your code here"
      ],
      "execution_count": null,
      "outputs": []
    },
    {
      "cell_type": "markdown",
      "metadata": {
        "id": "Qa7G0WaPx_qE"
      },
      "source": [
        "### 3. Run more epochs."
      ]
    },
    {
      "cell_type": "markdown",
      "metadata": {
        "id": "ar1XoS2bz6eS"
      },
      "source": [
        "The number of epochs is a hyperparameter that defines the number times that the learning algorithm will go through the entire training dataset. One epoch means that each sample in the training dataset has had an opportunity to update the internal model parameters once.\n",
        "\n",
        "Train your model until your model stars overfitting, which means your validation loss starts climbing up. That is the indication you should stop the training process (don't run more epochs) as your model learned enough about your training set and it began memorizing it but unable to generalize better on the validation set."
      ]
    },
    {
      "cell_type": "code",
      "metadata": {
        "id": "ejcGAJxFwRrN"
      },
      "source": [
        "#add your code here"
      ],
      "execution_count": null,
      "outputs": []
    },
    {
      "cell_type": "markdown",
      "metadata": {
        "id": "nkpUzvHPZnKS"
      },
      "source": [
        "### 4. Use different Data Augmentation Methods"
      ]
    },
    {
      "cell_type": "markdown",
      "metadata": {
        "id": "THWh3D6aaE_u"
      },
      "source": [
        "*Data augmentation* refers to creating random variations of our input data, such that they appear different, but do not actually change the meaning of the data. Examples of common data augmentation techniques for images are rotation, flipping, perspective warping, brightness changes and contrast changes.\n",
        "\n",
        "In the *Add more images to your dataset* section you have realised, that is takes time and resources to gather more labeled data. You also learned that you can overfit at some point if you train long enough. Therefore, using such data augmentation methods are you able to make the most of your dataset.\n",
        "\n",
        "Utilize the [`DataBlockAPI`](https://docs.fast.ai/data.block.html)  to play around with your data and create the `DataLoaders` to achieve the highest accuracy."
      ]
    },
    {
      "cell_type": "code",
      "metadata": {
        "id": "lU559cy84heD"
      },
      "source": [
        "#add your code here"
      ],
      "execution_count": null,
      "outputs": []
    },
    {
      "cell_type": "markdown",
      "metadata": {
        "id": "Xq7p0in7Zqqa"
      },
      "source": [
        "### 5. Utilize deeper Architectures "
      ]
    },
    {
      "cell_type": "markdown",
      "metadata": {
        "id": "CxQPgkiGZ5Uj"
      },
      "source": [
        "In Deep Learning there are various architectures that can be utilized by Deep Learning professionals. In general, the “deeper” they are, the more layers they have and as a result, they have the ability to better capture the real underlying relationships in your data. Examples are for example the ResNet architecture, which comes in variants of 18, 34, 50, 101, and 152 layers that are pre-trained on the ImageNet Dataset.\n",
        "\n",
        "However, using a deeper model is going to require more GPU RAM and take much longer to train. As the case with any kind of trade-offs, you will have to decide if the required GPU RAM and time invested outweigh the increased accuracy of your model which is not always guaranteed."
      ]
    },
    {
      "cell_type": "markdown",
      "metadata": {
        "id": "mi96qjZKxxJO"
      },
      "source": [
        "In the below you can find the model that we have seen in the very first week. It utilized the PET dataset. Within the code below you will find the resnet34 architecture that has been used in this particular case.\n",
        "\n",
        "`learn = cnn_learner(dls, resnet34, metrics=error_rate)`\n",
        "\n",
        "Change it to any of the variants mentioned above and check the change in error rate. You will be able to do that by simply changing `resnet34` to `resnet18` or any other architecture."
      ]
    },
    {
      "cell_type": "code",
      "metadata": {
        "id": "0WIhI9yx15Dd"
      },
      "source": [
        "#add your code here"
      ],
      "execution_count": null,
      "outputs": []
    },
    {
      "cell_type": "markdown",
      "metadata": {
        "id": "4Qq35Zx_ukXQ"
      },
      "source": [
        "## Assignment 2: Deploy your model."
      ]
    },
    {
      "cell_type": "markdown",
      "metadata": {
        "id": "2olzIQpk5cTt"
      },
      "source": [
        "### Export your model."
      ]
    },
    {
      "cell_type": "markdown",
      "metadata": {
        "id": "ZIUSqMQO5npo"
      },
      "source": [
        "Once you are satisfied with your model's accuracy, you can now deploy it. \n",
        "\n",
        "In a normal case your model is stored under the name `learn`. It has all updated weighths and already fine-tuned for your specific recognition task. \n",
        "\n",
        "You save a model by using `Learner.export`. You have to pass two input-arguments `learn` and `fname` to `Learner.export` in order to export your model properly and save it on gdrive, specifically in the folder /content/gdrive/MyDrive/ as you want access it anytime later. \n",
        "`fname` contains a path /content/gdrive/MyDrive/ + your exported model name with .pkl extension. \n",
        "\n"
      ]
    },
    {
      "cell_type": "code",
      "metadata": {
        "id": "LwcXu5mb52ZZ"
      },
      "source": [
        "Learner.export(learn, fname='/content/gdrive/MyDrive/YOURMODELNAME.pkl')"
      ],
      "execution_count": null,
      "outputs": []
    },
    {
      "cell_type": "markdown",
      "metadata": {
        "id": "0e6jRw3e6ELz"
      },
      "source": [
        "You can now see your model within your files on the left (check the path to find it on your gdrive)"
      ]
    },
    {
      "cell_type": "markdown",
      "metadata": {
        "id": "RX5PM9ZfCrhV"
      },
      "source": [
        "### Model deployment as a web application\n",
        "\n",
        "Creating a web application for your model demonstration is not hard, however it requires some additional software and services set up that your have to undergo personally in order get your model working across the web. We will use Heroku and Dropbox, both are free and easy to use. Let's start with Heroku."
      ]
    },
    {
      "cell_type": "markdown",
      "metadata": {
        "id": "stQiOvJa6N3x"
      },
      "source": [
        "#### Create an Heroku Account"
      ]
    },
    {
      "cell_type": "markdown",
      "metadata": {
        "id": "EySUtLe9Cniy"
      },
      "source": [
        "Click on [Heroku](https://signup.heroku.com/) to set up your Heroku account. After you logged in to your account, follow these steps :\n",
        "\n",
        "1. Create a Heroku app. Remember \"YOUR APP NAME\" you just created, you will need it for step 3 \n",
        "\n",
        "2. Now you will also have to install [Heroku CLI](https://devcenter.heroku.com/articles/heroku-command-line).\n",
        "> As a Mac user we recommend to install the [Standalone installation](https://devcenter.heroku.com/articles/heroku-cli#standalone-installation) via your [Terminal](https://askubuntu.com/questions/38162/what-is-a-terminal-and-how-do-i-open-and-use-it). As a Windows User you can use the [classic installer](https://devcenter.heroku.com/articles/heroku-cli#download-and-install) via your [Command Prompt](https://www.howtogeek.com/235101/10-ways-to-open-the-command-prompt-in-windows-10/).\n",
        "3. Run these lines of code **one by one**:\n",
        "\n",
        "  ```\n",
        "git clone https://github.com/ZeroLeon/zerodeploy.git\n",
        "cd zerodeploy\n",
        "heroku login -i\n",
        "Email: \"YOUR EMAIL FOR HEROKU ACCOUNT\"\n",
        "Password: YOUR PASSOWORD FOR HEROKU ACCOUNT\n",
        "heroku git:remote -a \"YOURAPPNAME\"\n",
        "git push heroku master\n",
        "  ```\n",
        "The last line of code will take few minutes to execute during which your will see an installation process of python libraries and frameworks necessary to run your web app. At the end of installation,  you should able to see:\n",
        "  ```\n",
        "remote: Verifying deploy... done.\n",
        "To https://git.heroku.com/YOURAPPNAME.git\n",
        " * [new branch]      master -> master\n",
        "  ```\n",
        "5. You are almost there. Run the last two lines of code: \n",
        "  ```\n",
        "heroku ps:scale web=1\n",
        "heroku open\n",
        "  ``` \n",
        "6. Congratulations! You just built your own web application that aimed to demonstrate your model inference. Open your web app page.\n",
        "\n"
      ]
    },
    {
      "cell_type": "markdown",
      "metadata": {
        "id": "xkwO_77t2ML5"
      },
      "source": [
        "### Upload your model\n",
        "We will need a direct download link of your model file.\n",
        "\n",
        "1. Download your model with `.pkl` extenstion on your computer before uploading it to dropbox.com\n",
        "2. See below what you have to do in order to get a direct download link:\n",
        "\n",
        "<img src=\"https://i.imgur.com/oraEkUR.png\" alt=\"a01\" width=\"200\"/>\n",
        "<img src=\"https://i.imgur.com/nXgP39a.png\" alt=\"a02\" width=\"400\"/>\n",
        "\n",
        "After you copied a link for e.g.: https://www.dropbox.com/s/74eiwzdw2nwqx64/rm_model.pkl?dl=0\n",
        "\n",
        "just change `dl=0` to `dl=1`, to finally get your direct download link, for e.g https://www.dropbox.com/s/74eiwzdw2nwqx64/rm_model.pkl?dl=1\n",
        "3. Come back to your web app page to download the model on your web app.\n",
        "4. FINALLY try out an inference of your model! Don't forget to share the web app you just created with your friends or maybe be even with your collegues or investors! "
      ]
    },
    {
      "cell_type": "markdown",
      "metadata": {
        "id": "MhAqnT6aZ_sO"
      },
      "source": [
        "## Assignment 3: Prepare a written thesis about your model.\n"
      ]
    },
    {
      "cell_type": "markdown",
      "metadata": {
        "id": "spzJJjkh83CI"
      },
      "source": [
        "Now that you have improved your model and created a performance overview along with a short presentation, we want you to write a written thesis about your own model with a minimum of 300 words. Please write the thesis within **Medium** (see below for more information).\n",
        "\n",
        "In order to write a great thesis, we encourage you to:\n",
        "\n",
        "\n",
        "1. Clearly define the objective, and data inputs like you have done in the second week.\n",
        "2. Provide visuals of your code, models performance (i.e. `confusion matrix` & Models Performance Overview), models predictions and final accuracy.\n",
        "3. Be clear about each action step when building, debugging and improving your model.\n",
        "\n",
        "\n",
        "You can use this [example](https://medium.com/unpackai/pokemon-classifier-model-19601e1fbb4d) to guide you. Some things in this article might be new to you, so focus on what you know and what you have learned."
      ]
    },
    {
      "cell_type": "markdown",
      "metadata": {
        "id": "HLtKswAX5_KA"
      },
      "source": [
        "#### Publish your article Medium"
      ]
    },
    {
      "cell_type": "markdown",
      "metadata": {
        "id": "FRnRS_Ix6EfV"
      },
      "source": [
        "We want you to publish your written thesis on Medium along with the Collab Link to your own Notebook (if you prefer to share it via github that is also possible). Below is a step-by-step guide on how to publish on Medium.\n",
        "\n",
        "Create a medium account.\n",
        "\n",
        "1. Create a [Medium Account](https://medium.com/) and confirm with us that you did by providing us with the email that you signed up with.\n",
        "2. Have a look at the [unpackAI Medium publication](https://medium.com/unpackai) and follow us.\n",
        "3. After finalising your thesis within Medium add your draft to our Medium publication. We will review and publish it for you. [Click here to find out how to add your thesis.](https://help.medium.com/hc/en-us/articles/213904978-Add-a-draft-or-post-to-publication)\n",
        "\n",
        "*WHY TO PUBLISH ON MEDIUM?* Medium is a great place to share great content. The thesis is an exercise for you to verbalise your thoughts and process on how you build your own Deep Learning Model. Moreover, its a great way for you to build your own portfolio."
      ]
    },
    {
      "cell_type": "markdown",
      "metadata": {
        "id": "-GmQXCfFp_vC"
      },
      "source": [
        "## Assignment 4: Prepare yourself to present your model."
      ]
    },
    {
      "cell_type": "markdown",
      "metadata": {
        "id": "p1ihpP8u1pB3"
      },
      "source": [
        "Based on your work above prepare yourself to present your model. You can choose whatever medium and structure you prefer. Though, it would be critical to show your progress in your Colab Notebook and any kind of visualizations that helps the audience to understand your work.\n",
        "\n",
        "For example, in order to allow others to see how you have improved your model, please prepare a table like the one below and add it to your presentation. Feel free to use the one below as a template."
      ]
    },
    {
      "cell_type": "markdown",
      "metadata": {
        "id": "M8ONhFaCp5Y_"
      },
      "source": [
        "#### 🔍 Example Models Performance Overview\n",
        "|No| NAME      | ARCHITECTURE | DATABLOCK | DATACLEANING | BEST EPOCH | ACCURACY | Error Rate |\n",
        "| -- | ----------- | ----------- | --- | ------- | --- | ---- |---- |\n",
        "|1| model_version1      | `arch=resnet34`   |    |  Added 10 additional pictures for each class.  | 2 | 0.84 |0.16 |\n",
        "|2| model_version2   | `arch=resnet50`     |   |    | 19 | 0.89 |0.11 | \n",
        "|3| model_version3 | `arch=resnet50` |  item_tfms=Resize(256)|  Corrected the classes of 15 images.  | 18 | 0.93 |0.07 |\n",
        "|4|model_version4|`arch=resnet50`|`item_tfms=(RandomResizedCrop(256, min_scale=0.35)),` <br> `batch_tfms=aug_transforms(mult=2)`|  Deleted 20 faulty images.  | 19 | 0.95| 0.05 |"
      ]
    },
    {
      "cell_type": "markdown",
      "metadata": {
        "id": "0ypV6c9j31eP"
      },
      "source": [
        "Make sure to clearly go through your objective, data points and methods to provide proper insights. Good luck!"
      ]
    },
    {
      "cell_type": "markdown",
      "metadata": {
        "id": "MgfT_s3Q7InG"
      },
      "source": [
        "## End of Deliverables"
      ]
    },
    {
      "cell_type": "markdown",
      "metadata": {
        "id": "DFwtxsGh7L05"
      },
      "source": [
        "**YOU HAVE DONE IT.** You have build your own model, improved it and deployed it. We are proud of you!\n",
        "\n",
        "We are super excited for your final presentation, and to see your final project in action. This model along with your thesis will be one of the main outcome of this Bootcamp.\n",
        "\n",
        "We hope that you have enjoyed it."
      ]
    }
  ]
}